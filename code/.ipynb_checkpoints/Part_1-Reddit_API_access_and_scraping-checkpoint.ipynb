{
 "cells": [
  {
   "cell_type": "markdown",
   "id": "a8442325",
   "metadata": {},
   "source": [
    "<img src=\"http://imgur.com/1ZcRyrc.png\" style=\"float: left; margin: 20px; height: 55px\">\n",
    "\n",
    "# DSI 37 Project 3"
   ]
  },
  {
   "cell_type": "markdown",
   "id": "43a4045a",
   "metadata": {},
   "source": [
    "<a id='part_i'></a>\n",
    "[Part II](Part_2-Cleaning_and_EDA.ipynb#part_ii) <br>\n",
    "[Part III](Part_3-Modelling.ipynb#part_iii)"
   ]
  },
  {
   "cell_type": "markdown",
   "id": "0416e045",
   "metadata": {},
   "source": [
    "# Part I: Reddit API Access And Scraping"
   ]
  },
  {
   "cell_type": "markdown",
   "id": "5cf6125f",
   "metadata": {},
   "source": [
    "<a id='part_i'></a>"
   ]
  },
  {
   "cell_type": "markdown",
   "id": "0fa74d92",
   "metadata": {},
   "source": [
    "## Contents\n",
    "\n",
    "[1. Intro](#intro)<br>\n",
    "[2. Glossary](#glossary)<br>\n",
    "[3. Imports](#imports)<br>\n",
    "[4. Code](#code)<br>\n"
   ]
  },
  {
   "cell_type": "markdown",
   "id": "db11aef6",
   "metadata": {},
   "source": [
    "## 1. Intro"
   ]
  },
  {
   "cell_type": "markdown",
   "id": "4d1de7c2",
   "metadata": {},
   "source": [
    "<a id='intro'></a>"
   ]
  },
  {
   "cell_type": "markdown",
   "id": "3d80b898",
   "metadata": {},
   "source": [
    "## Problem Statement\n",
    "\n",
    "We are members of a data science team working for a specialised diet food company.\n",
    "As such, understanding the customers' diets of interest and the unique preferences of specific diet groups is key to driving effective marketing, targeted advertisements, product development, and profit generation. The purposes of this project are twofold. \n",
    "\n",
    "Firstly, by leveraging NLP techniques, we aim to generate valuable insights on the characteristics and preferences of the Keto and Paleo communities. By thoroughly analysing the collected data, we aim to identify key patterns, trends, and distinguishing features of each community. We have chosen these two communities because despite rising interest in these two diets, there is a lack of goods and services targeted at them and this is a gap in the market that we hope to fill.\n"
   ]
  },
  {
   "cell_type": "markdown",
   "id": "42bd95ca",
   "metadata": {},
   "source": [
    "<img src=\"../images/keto stats 3.png\" style='float: left; margin: 20px; width: 410px'>\n",
    "<img src=\"../images/paleo stats 3.png\" style='float: left; margin: 20px; width: 410px'>\n"
   ]
  },
  {
   "cell_type": "markdown",
   "id": "85a222b3",
   "metadata": {},
   "source": [
    "Fig 1: number of subscribers per year from 2012 to 2023 for r/keto (left) and r/paleo (right)"
   ]
  },
  {
   "cell_type": "markdown",
   "id": "5ddb2b06",
   "metadata": {},
   "source": [
    "Secondly, we aim to create a robust binary classifier that can effectively differentiate between posts from these two communities. To do this, we will make use of the posts from the two subreddits, [r\\keto](https://www.reddit.com/r/keto/) and [r\\paleo](https://www.reddit.com/r/Paleo/). This will serve as the foundation for our classification model.\n",
    "\n",
    "\n",
    "Ultimately, the developed model will empower our company's product and marketing teams to precisely identify the needs and preferences of our clientele, helping us to tailor our offerings to Keto or Paleo diet followers. This data-driven, personalised marketing strategy will enhance customer satisfaction and drive business growth.\n",
    "\n",
    "Throughout the project, we will undertake crucial steps such as preprocessing the subreddit posts and conducting Exploratory Data Analysis (EDA). Finally, the performance of our models will be evaluated based on the highest f1 score, ensuring the accuracy and effectiveness of our classification approach."
   ]
  },
  {
   "cell_type": "markdown",
   "id": "c00ac7e0",
   "metadata": {},
   "source": [
    "## Goals\n",
    "\n",
    "* to be able to classify text as either 'keto' or 'paleo' with an accuracy of at least 80%\n",
    "* to learn what key terms these two communities are focused on and whether we can turn them into products \n",
    "* to see if there are any other unexpected insights we can glean "
   ]
  },
  {
   "cell_type": "markdown",
   "id": "002b7113",
   "metadata": {},
   "source": [
    "## Description of this codebook"
   ]
  },
  {
   "cell_type": "markdown",
   "id": "38f1adf2",
   "metadata": {},
   "source": [
    "This is part 1 of our overall code for this project. This part concerns the methods used to access the Reddit API and scrape data from posts from two r/paleo and r/keto. This code also explains some of the methods we used to circumvent Reddit's attempts to prevent data scraping."
   ]
  },
  {
   "cell_type": "markdown",
   "id": "8aaba38a",
   "metadata": {},
   "source": [
    "## 2. Glossary"
   ]
  },
  {
   "cell_type": "markdown",
   "id": "d686e4f5",
   "metadata": {},
   "source": [
    "<a id='glossary'></a>"
   ]
  },
  {
   "cell_type": "markdown",
   "id": "6851eb21",
   "metadata": {},
   "source": [
    "### Reddit:\n",
    "Reddit is a social news website and forum where content is socially curated and promoted by site members through voting. It was founded in 2005 and ranks as the 10th most visited website in the world and 6th most visited website in the US. Anyone can create an account with just an email address. The key feature of Reddit is the ability to create 'subreddits' or individual sub-forum for special interest groups, and for any user to contribute content to these subreddits. As such, people with niche interests tend to congregate on Reddit to seek or give advice, information, and affirmation.\n",
    "\n",
    "Subreddits can be sorted based on default, hot, new, or top (by time period). "
   ]
  },
  {
   "cell_type": "markdown",
   "id": "d663b77b",
   "metadata": {},
   "source": [
    "### Paleo Diet:\n",
    "The Paleo diet is short for the 'paleolithic diet'. It's an eating plan based on foods humans might have eaten during the Paleolithic Era (around 2.5mil - 10,000 years ago). It's also known as a 'hunter-gatherer diet' because it excludes foods that only became more common when small-scale farming was invented. The theory behind this diet is that human bodies have not evolved as quickly as agricultural technology has and have not adapted to eating these modern foods yet. Followers of this diet believe that eating these modern foods cause health issues like obeisity and diabetes.\n",
    "\n",
    "As such, followers of the paleo diet can eat:\n",
    "\n",
    "* fruits\n",
    "* vegetables\n",
    "* lean meat\n",
    "* fish\n",
    "* nuts\n",
    "* eggs\n",
    "* seeds\n",
    "\n",
    "They cannot eat:\n",
    "\n",
    "* grains\n",
    "* legumes\n",
    "* dairy\n",
    "* refined or added sugar\n",
    "* added salt\n",
    "* highly processed foods\n",
    "* certain vegetables that are high in starch like corns, peas, and potatoes\n",
    "\n",
    "r/Paleo has around 167k members."
   ]
  },
  {
   "cell_type": "markdown",
   "id": "e93dc781",
   "metadata": {},
   "source": [
    "### Keto Diet:\n",
    "The Keto diet is short for the 'ketogenic diet'. It's an eating plan that involves consuming a very low amount of carbohydrates and replacing them with fat to help the body enter a metabolic state known as 'ketosis' where fat is burned rapidly for energy. While there are many variations, the Standard Ketogenic Diet recommends a split of 70% fat, 20% protein, and only 10% carbs. Since it's based on macronutrients, the keto diet has fewer restrictions than the paleo diet.\n",
    "\n",
    "Recommended foods:\n",
    "* meat \n",
    "* fatty fish\n",
    "* eggs\n",
    "* butter and cream\n",
    "* cheese\n",
    "* nuts and seeds\n",
    "* healthy oils (e.g. extra virgin olive oil, avocado oil, etc.)\n",
    "* avocados\n",
    "* low-carb vegetables\n",
    "\n",
    "Foods to avoid\n",
    "* sugary foods\n",
    "* foods that use artificial sweeteners\n",
    "* grains or starches\n",
    "* fruit\n",
    "* beans or legumes\n",
    "* root vegetables\n",
    "* low-fat products \n",
    "* unhealthy fats (e.g. mayonnaise, processed vegetable oils, etc.)\n",
    "* sauces (e.g. bbq, honey mustard, etc.)\n",
    "* alcohol\n",
    "\n",
    "r/Keto has around 3.26mil members.\n"
   ]
  },
  {
   "cell_type": "markdown",
   "id": "a16d28d4",
   "metadata": {
    "tags": [
     "imports"
    ]
   },
   "source": [
    "## 3. Imports (Libraries)"
   ]
  },
  {
   "cell_type": "markdown",
   "id": "acec9113",
   "metadata": {},
   "source": [
    "<a id='imports'></a>"
   ]
  },
  {
   "cell_type": "code",
   "execution_count": 19,
   "id": "c1701cdd",
   "metadata": {},
   "outputs": [],
   "source": [
    "# for pulling data from reddit\n",
    "\n",
    "import requests\n",
    "import pandas as pd\n",
    "import time\n",
    "import random\n"
   ]
  },
  {
   "cell_type": "markdown",
   "id": "a9f1d109",
   "metadata": {
    "tags": [
     "code"
    ]
   },
   "source": [
    "## 4. Code"
   ]
  },
  {
   "cell_type": "markdown",
   "id": "e7ffa624",
   "metadata": {},
   "source": [
    "<a id='code'></a>"
   ]
  },
  {
   "cell_type": "markdown",
   "id": "1a9517df",
   "metadata": {},
   "source": [
    "### 1. importing posts from r/Paleo and r/Keto"
   ]
  },
  {
   "cell_type": "markdown",
   "id": "bbd6927c",
   "metadata": {},
   "source": [
    "We can directly access the page info as a json by adding '.json' to the end of the url. After experimenting with scraping methods, we discovered that we could circumvent Reddit's attempts to block scraping by changing the sort methods. "
   ]
  },
  {
   "cell_type": "markdown",
   "id": "96f1c7e8",
   "metadata": {},
   "source": [
    "Step 1: defining the urls for the 2 subreddits we want to scrape"
   ]
  },
  {
   "cell_type": "code",
   "execution_count": 20,
   "id": "aa4b3a4c",
   "metadata": {},
   "outputs": [],
   "source": [
    "p_url = 'https://www.reddit.com/r/Paleo'"
   ]
  },
  {
   "cell_type": "code",
   "execution_count": 21,
   "id": "9b54f722",
   "metadata": {},
   "outputs": [],
   "source": [
    "k_url = 'https://www.reddit.com/r/Keto'"
   ]
  },
  {
   "cell_type": "markdown",
   "id": "c2c382f7",
   "metadata": {},
   "source": [
    "Step 2: create a list of the different ways of sorting reddit posts because we discovered from previous scraping attempts that r/Keto would start duplicating posts after ~600 posts"
   ]
  },
  {
   "cell_type": "code",
   "execution_count": 22,
   "id": "d9742b89",
   "metadata": {},
   "outputs": [],
   "source": [
    "url_ext = ['', '/new','/hot', '/top']"
   ]
  },
  {
   "cell_type": "markdown",
   "id": "b6475dbd",
   "metadata": {},
   "source": [
    "Step 3: write a function that will iterate through the different ways of sorting reddit posts (in url_ext) "
   ]
  },
  {
   "cell_type": "code",
   "execution_count": 23,
   "id": "e354c190",
   "metadata": {},
   "outputs": [],
   "source": [
    "def reddit_importer(url, n, sub):\n",
    "    posts = []\n",
    "    after = None\n",
    "\n",
    "    for i in url_ext:\n",
    "        if i != '/top':\n",
    "            for a in range(n): \n",
    "                if after == None:\n",
    "                    current_url = url + i + '.json'\n",
    "                else:\n",
    "                    current_url = url + i + '.json' + '?after=' + after\n",
    "                print(current_url)\n",
    "                res = requests.get(current_url, headers={'User-agent': 'Shokupan Inc 1.0'})\n",
    "\n",
    "                if res.status_code != 200:\n",
    "                    print('Status error', res.status_code)\n",
    "                    break\n",
    "\n",
    "                current_dict = res.json()\n",
    "                current_posts = [p['data'] for p in current_dict['data']['children']]\n",
    "                posts.extend(current_posts)\n",
    "                after = current_dict['data']['after']\n",
    "\n",
    "                # COMPLETE THE CODE!\n",
    "                if a > 0:\n",
    "                    prev_posts = pd.read_csv(f'{sub}.csv')\n",
    "                    current_df = pd.DataFrame(current_posts)\n",
    "                    combined = pd.concat([prev_posts, current_df])\n",
    "                    pd.DataFrame(combined).to_csv(f'{sub}.csv', index = False)\n",
    "                else:\n",
    "                    pd.DataFrame(posts).to_csv(f'{sub}.csv', index = False)\n",
    "\n",
    "                # generate a random sleep duration to look more 'natural'\n",
    "                sleep_duration = random.randint(2,7)\n",
    "                print(sleep_duration)\n",
    "                time.sleep(sleep_duration)\n",
    "            after = None\n",
    "        else:\n",
    "            # top comes without an 'after' field for some reason\n",
    "            current_url = url + i + '.json'\n",
    "            res = requests.get(current_url, headers={'User-agent': 'Shokupan Inc 1.0'})\n",
    "        "
   ]
  },
  {
   "cell_type": "markdown",
   "id": "adb2d955",
   "metadata": {},
   "source": [
    "Step 4: use the function written in step 3 to import from one subreddit"
   ]
  },
  {
   "cell_type": "code",
   "execution_count": 6,
   "id": "a1f6170a",
   "metadata": {},
   "outputs": [
    {
     "name": "stdout",
     "output_type": "stream",
     "text": [
      "https://www.reddit.com/r/Paleo.json\n",
      "5\n",
      "https://www.reddit.com/r/Paleo.json?after=t3_13zbgq2\n",
      "2\n",
      "https://www.reddit.com/r/Paleo.json?after=t3_13ihnku\n",
      "7\n",
      "https://www.reddit.com/r/Paleo.json?after=t3_131gpc1\n",
      "4\n",
      "https://www.reddit.com/r/Paleo.json?after=t3_12g7ka2\n",
      "2\n",
      "https://www.reddit.com/r/Paleo.json?after=t3_11yq5df\n",
      "6\n",
      "https://www.reddit.com/r/Paleo.json?after=t3_11o6n44\n",
      "2\n",
      "https://www.reddit.com/r/Paleo.json?after=t3_11ahtr0\n",
      "2\n",
      "https://www.reddit.com/r/Paleo.json?after=t3_10xyl16\n",
      "3\n",
      "https://www.reddit.com/r/Paleo.json?after=t3_10qh7ec\n",
      "6\n",
      "https://www.reddit.com/r/Paleo.json?after=t3_10gwggc\n",
      "7\n",
      "https://www.reddit.com/r/Paleo.json?after=t3_104g0mk\n",
      "5\n",
      "https://www.reddit.com/r/Paleo.json?after=t3_zqjncz\n",
      "4\n",
      "https://www.reddit.com/r/Paleo.json?after=t3_zbh879\n",
      "7\n",
      "https://www.reddit.com/r/Paleo.json?after=t3_z0cp3x\n",
      "7\n",
      "https://www.reddit.com/r/Paleo.json?after=t3_yhvmfd\n",
      "2\n",
      "https://www.reddit.com/r/Paleo.json?after=t3_y52d2j\n",
      "2\n",
      "https://www.reddit.com/r/Paleo.json?after=t3_xp8uw7\n",
      "2\n",
      "https://www.reddit.com/r/Paleo.json?after=t3_xaq7zj\n",
      "4\n",
      "https://www.reddit.com/r/Paleo.json?after=t3_wueren\n",
      "2\n",
      "https://www.reddit.com/r/Paleo.json?after=t3_wh2lv5\n",
      "6\n",
      "https://www.reddit.com/r/Paleo.json?after=t3_w3y75p\n",
      "7\n",
      "https://www.reddit.com/r/Paleo.json?after=t3_vunio3\n",
      "2\n",
      "https://www.reddit.com/r/Paleo.json?after=t3_vejq8c\n",
      "5\n",
      "https://www.reddit.com/r/Paleo.json?after=t3_v175od\n",
      "5\n",
      "https://www.reddit.com/r/Paleo.json?after=t3_updl7d\n",
      "6\n",
      "https://www.reddit.com/r/Paleo.json?after=t3_ug67yp\n",
      "6\n",
      "https://www.reddit.com/r/Paleo.json?after=t3_u1f6w7\n",
      "6\n",
      "https://www.reddit.com/r/Paleo.json?after=t3_tpcdg6\n",
      "4\n",
      "https://www.reddit.com/r/Paleo.json?after=t3_tc0s4i\n",
      "6\n",
      "https://www.reddit.com/r/Paleo.json?after=t3_t2pev5\n",
      "3\n",
      "https://www.reddit.com/r/Paleo.json?after=t3_sr3iu3\n",
      "4\n",
      "https://www.reddit.com/r/Paleo.json?after=t3_sd8o8e\n",
      "2\n",
      "https://www.reddit.com/r/Paleo.json?after=t3_s2qyor\n",
      "3\n",
      "https://www.reddit.com/r/Paleo.json?after=t3_rm8gve\n",
      "5\n",
      "https://www.reddit.com/r/Paleo.json?after=t3_r9p0pe\n",
      "3\n",
      "https://www.reddit.com/r/Paleo.json?after=t3_qsfhoj\n",
      "4\n",
      "https://www.reddit.com/r/Paleo.json?after=t3_qe6a51\n",
      "5\n",
      "https://www.reddit.com/r/Paleo.json?after=t3_pxghvr\n",
      "3\n",
      "https://www.reddit.com/r/Paleo.json?after=t3_9hh6k6\n",
      "4\n",
      "https://www.reddit.com/r/Paleo/new.json\n",
      "4\n",
      "https://www.reddit.com/r/Paleo/new.json?after=t3_13z5uo4\n",
      "4\n",
      "https://www.reddit.com/r/Paleo/new.json?after=t3_13ie7cn\n",
      "6\n",
      "https://www.reddit.com/r/Paleo/new.json?after=t3_131n4p8\n",
      "6\n",
      "https://www.reddit.com/r/Paleo/new.json?after=t3_12hio3s\n",
      "5\n",
      "https://www.reddit.com/r/Paleo/new.json?after=t3_11yzjtp\n",
      "3\n",
      "https://www.reddit.com/r/Paleo/new.json?after=t3_11nub44\n",
      "3\n",
      "https://www.reddit.com/r/Paleo/new.json?after=t3_11ahtr0\n",
      "3\n",
      "https://www.reddit.com/r/Paleo/new.json?after=t3_10z2nma\n",
      "6\n",
      "https://www.reddit.com/r/Paleo/new.json?after=t3_10qh7ec\n",
      "2\n",
      "https://www.reddit.com/r/Paleo/new.json?after=t3_10hcq35\n",
      "6\n",
      "https://www.reddit.com/r/Paleo/new.json?after=t3_105fk0d\n",
      "3\n",
      "https://www.reddit.com/r/Paleo/new.json?after=t3_zqpd5k\n",
      "4\n",
      "https://www.reddit.com/r/Paleo/new.json?after=t3_zccve9\n",
      "6\n",
      "https://www.reddit.com/r/Paleo/new.json?after=t3_z0cp3x\n",
      "7\n",
      "https://www.reddit.com/r/Paleo/new.json?after=t3_yij4b4\n",
      "3\n",
      "https://www.reddit.com/r/Paleo/new.json?after=t3_y6jocu\n",
      "5\n",
      "https://www.reddit.com/r/Paleo/new.json?after=t3_xqappm\n",
      "7\n",
      "https://www.reddit.com/r/Paleo/new.json?after=t3_xd96wk\n",
      "2\n",
      "https://www.reddit.com/r/Paleo/new.json?after=t3_wuhoca\n",
      "2\n",
      "https://www.reddit.com/r/Paleo/new.json?after=t3_wi8bob\n",
      "7\n",
      "https://www.reddit.com/r/Paleo/new.json?after=t3_w3z1g8\n",
      "3\n",
      "https://www.reddit.com/r/Paleo/new.json?after=t3_vw335q\n",
      "4\n",
      "https://www.reddit.com/r/Paleo/new.json?after=t3_vfgpnh\n",
      "5\n",
      "https://www.reddit.com/r/Paleo/new.json?after=t3_v2jtwv\n",
      "4\n",
      "https://www.reddit.com/r/Paleo/new.json?after=t3_uqx569\n",
      "7\n",
      "https://www.reddit.com/r/Paleo/new.json?after=t3_uhdwi2\n",
      "4\n",
      "https://www.reddit.com/r/Paleo/new.json?after=t3_u261un\n",
      "2\n",
      "https://www.reddit.com/r/Paleo/new.json?after=t3_tq91za\n",
      "2\n",
      "https://www.reddit.com/r/Paleo/new.json?after=t3_tcbuzc\n",
      "7\n",
      "https://www.reddit.com/r/Paleo/new.json?after=t3_t32goi\n",
      "2\n",
      "https://www.reddit.com/r/Paleo/new.json?after=t3_srhhnq\n",
      "6\n",
      "https://www.reddit.com/r/Paleo/new.json?after=t3_sf0d5m\n",
      "3\n",
      "https://www.reddit.com/r/Paleo/new.json?after=t3_s3164x\n",
      "7\n",
      "https://www.reddit.com/r/Paleo/new.json?after=t3_rm8gve\n",
      "5\n",
      "https://www.reddit.com/r/Paleo/new.json?after=t3_r9p0pe\n",
      "5\n",
      "https://www.reddit.com/r/Paleo/new.json?after=t3_qsfhoj\n",
      "6\n",
      "https://www.reddit.com/r/Paleo/new.json?after=t3_qe2fty\n",
      "7\n",
      "https://www.reddit.com/r/Paleo/new.json\n",
      "2\n",
      "https://www.reddit.com/r/Paleo/new.json?after=t3_13z5uo4\n",
      "3\n",
      "https://www.reddit.com/r/Paleo/hot.json\n",
      "7\n",
      "https://www.reddit.com/r/Paleo/hot.json?after=t3_13zbgq2\n",
      "4\n",
      "https://www.reddit.com/r/Paleo/hot.json?after=t3_13ihnku\n",
      "4\n",
      "https://www.reddit.com/r/Paleo/hot.json?after=t3_131gpc1\n",
      "7\n",
      "https://www.reddit.com/r/Paleo/hot.json?after=t3_12g7ka2\n",
      "7\n",
      "https://www.reddit.com/r/Paleo/hot.json?after=t3_11yq5df\n",
      "2\n",
      "https://www.reddit.com/r/Paleo/hot.json?after=t3_11o6n44\n",
      "7\n",
      "https://www.reddit.com/r/Paleo/hot.json?after=t3_11ahtr0\n",
      "4\n",
      "https://www.reddit.com/r/Paleo/hot.json?after=t3_10xyl16\n",
      "2\n",
      "https://www.reddit.com/r/Paleo/hot.json?after=t3_10qh7ec\n",
      "7\n",
      "https://www.reddit.com/r/Paleo/hot.json?after=t3_10gwggc\n",
      "6\n",
      "https://www.reddit.com/r/Paleo/hot.json?after=t3_104g0mk\n",
      "3\n",
      "https://www.reddit.com/r/Paleo/hot.json?after=t3_zqjncz\n",
      "6\n",
      "https://www.reddit.com/r/Paleo/hot.json?after=t3_zbh879\n",
      "3\n",
      "https://www.reddit.com/r/Paleo/hot.json?after=t3_z0cp3x\n",
      "6\n",
      "https://www.reddit.com/r/Paleo/hot.json?after=t3_yhvmfd\n",
      "5\n",
      "https://www.reddit.com/r/Paleo/hot.json?after=t3_y52d2j\n",
      "4\n",
      "https://www.reddit.com/r/Paleo/hot.json?after=t3_xp8uw7\n",
      "7\n",
      "https://www.reddit.com/r/Paleo/hot.json?after=t3_xaq7zj\n",
      "4\n",
      "https://www.reddit.com/r/Paleo/hot.json?after=t3_wueren\n",
      "4\n",
      "https://www.reddit.com/r/Paleo/hot.json?after=t3_wh2lv5\n",
      "7\n"
     ]
    },
    {
     "ename": "KeyboardInterrupt",
     "evalue": "",
     "output_type": "error",
     "traceback": [
      "\u001b[0;31m---------------------------------------------------------------------------\u001b[0m",
      "\u001b[0;31mKeyboardInterrupt\u001b[0m                         Traceback (most recent call last)",
      "Cell \u001b[0;32mIn[6], line 1\u001b[0m\n\u001b[0;32m----> 1\u001b[0m \u001b[43mreddit_importer\u001b[49m\u001b[43m(\u001b[49m\u001b[43mp_url\u001b[49m\u001b[43m,\u001b[49m\u001b[43m \u001b[49m\u001b[38;5;241;43m40\u001b[39;49m\u001b[43m,\u001b[49m\u001b[43m \u001b[49m\u001b[38;5;124;43m'\u001b[39;49m\u001b[38;5;124;43mpaleo\u001b[39;49m\u001b[38;5;124;43m'\u001b[39;49m\u001b[43m)\u001b[49m\n",
      "Cell \u001b[0;32mIn[5], line 36\u001b[0m, in \u001b[0;36mreddit_importer\u001b[0;34m(url, n, sub)\u001b[0m\n\u001b[1;32m     34\u001b[0m         sleep_duration \u001b[38;5;241m=\u001b[39m random\u001b[38;5;241m.\u001b[39mrandint(\u001b[38;5;241m2\u001b[39m,\u001b[38;5;241m7\u001b[39m)\n\u001b[1;32m     35\u001b[0m         \u001b[38;5;28mprint\u001b[39m(sleep_duration)\n\u001b[0;32m---> 36\u001b[0m         \u001b[43mtime\u001b[49m\u001b[38;5;241;43m.\u001b[39;49m\u001b[43msleep\u001b[49m\u001b[43m(\u001b[49m\u001b[43msleep_duration\u001b[49m\u001b[43m)\u001b[49m\n\u001b[1;32m     37\u001b[0m     after \u001b[38;5;241m=\u001b[39m \u001b[38;5;28;01mNone\u001b[39;00m\n\u001b[1;32m     38\u001b[0m \u001b[38;5;28;01melse\u001b[39;00m:\n",
      "\u001b[0;31mKeyboardInterrupt\u001b[0m: "
     ]
    }
   ],
   "source": [
    "reddit_importer(p_url, 40, 'paleo')"
   ]
  },
  {
   "cell_type": "markdown",
   "id": "5556a533",
   "metadata": {},
   "source": [
    "Step 5: import the .csv file just written in step 4 to check that it worked, and also to see how many unique entries we have (since reddit starts duplicating posts after a while of scraping)"
   ]
  },
  {
   "cell_type": "code",
   "execution_count": 16,
   "id": "8c120803",
   "metadata": {},
   "outputs": [
    {
     "name": "stdout",
     "output_type": "stream",
     "text": [
      "The original shape is (2484, 118).\n",
      "The shape after dropping duplicates is (979, 118).\n"
     ]
    }
   ],
   "source": [
    "p_df = pd.read_csv('../data/paleo.csv')\n",
    "print(f'The original shape is {p_df.shape}.')\n",
    "\n",
    "# we used the subset 'name' because we noticed that drop_duplicates alone did not get rid of all the duplicates\n",
    "p_df.drop_duplicates(subset = 'name', ignore_index = True, inplace = True)\n",
    "\n",
    "print(f'The shape after dropping duplicates is {p_df.shape}.')"
   ]
  },
  {
   "cell_type": "markdown",
   "id": "b4c3c64d",
   "metadata": {},
   "source": [
    "Step 6: repeat steps 4-5 on the other subreddit"
   ]
  },
  {
   "cell_type": "code",
   "execution_count": 24,
   "id": "030bf3fe",
   "metadata": {},
   "outputs": [
    {
     "name": "stdout",
     "output_type": "stream",
     "text": [
      "https://www.reddit.com/r/Keto.json\n",
      "6\n",
      "https://www.reddit.com/r/Keto.json?after=t3_14drlyt\n",
      "7\n",
      "https://www.reddit.com/r/Keto.json?after=t3_14cru1d\n",
      "3\n",
      "https://www.reddit.com/r/Keto.json?after=t3_14btcu1\n",
      "7\n",
      "https://www.reddit.com/r/Keto.json?after=t3_14az9hx\n",
      "5\n",
      "https://www.reddit.com/r/Keto.json?after=t3_14ainre\n",
      "4\n",
      "https://www.reddit.com/r/Keto.json?after=t3_14a8ki2\n",
      "5\n",
      "https://www.reddit.com/r/Keto.json?after=t3_148jsey\n",
      "4\n",
      "https://www.reddit.com/r/Keto.json?after=t3_148fmao\n",
      "3\n",
      "https://www.reddit.com/r/Keto.json?after=t3_1481k0u\n",
      "3\n",
      "https://www.reddit.com/r/Keto.json?after=t3_146w86j\n",
      "6\n",
      "https://www.reddit.com/r/Keto.json?after=t3_145t0tl\n",
      "7\n",
      "https://www.reddit.com/r/Keto.json?after=t3_144xmyy\n",
      "6\n",
      "https://www.reddit.com/r/Keto.json?after=t3_143xo8w\n",
      "2\n",
      "https://www.reddit.com/r/Keto.json?after=t3_143hhav\n",
      "3\n",
      "https://www.reddit.com/r/Keto.json?after=t3_142b9nx\n",
      "2\n",
      "https://www.reddit.com/r/Keto.json?after=t3_14273kl\n",
      "5\n",
      "https://www.reddit.com/r/Keto.json?after=t3_140mo6u\n",
      "2\n",
      "https://www.reddit.com/r/Keto.json?after=t3_13zjtj7\n",
      "6\n",
      "https://www.reddit.com/r/Keto.json?after=t3_13ypggm\n",
      "4\n",
      "https://www.reddit.com/r/Keto.json?after=t3_13x1hjn\n",
      "5\n",
      "https://www.reddit.com/r/Keto.json?after=t3_13wlz3a\n",
      "3\n",
      "https://www.reddit.com/r/Keto.json?after=t3_13w0rw7\n",
      "3\n",
      "https://www.reddit.com/r/Keto.json?after=t3_13uws09\n",
      "2\n",
      "https://www.reddit.com/r/Keto.json?after=t3_13uaxgx\n",
      "4\n",
      "https://www.reddit.com/r/Keto.json?after=t3_13t3ew1\n",
      "7\n",
      "https://www.reddit.com/r/Keto.json?after=t3_13shkd1\n",
      "5\n",
      "https://www.reddit.com/r/Keto.json?after=t3_13rfo88\n",
      "3\n",
      "https://www.reddit.com/r/Keto.json\n",
      "7\n",
      "https://www.reddit.com/r/Keto.json?after=t3_14drlyt\n",
      "3\n",
      "https://www.reddit.com/r/Keto.json?after=t3_14cru1d\n",
      "2\n",
      "https://www.reddit.com/r/Keto.json?after=t3_14btcu1\n",
      "3\n",
      "https://www.reddit.com/r/Keto.json?after=t3_14az9hx\n",
      "5\n",
      "https://www.reddit.com/r/Keto.json?after=t3_14ainre\n",
      "3\n",
      "https://www.reddit.com/r/Keto.json?after=t3_14a8ki2\n",
      "3\n",
      "https://www.reddit.com/r/Keto.json?after=t3_148jsey\n",
      "5\n",
      "https://www.reddit.com/r/Keto.json?after=t3_148fmao\n",
      "6\n",
      "https://www.reddit.com/r/Keto.json?after=t3_1481k0u\n",
      "7\n",
      "https://www.reddit.com/r/Keto.json?after=t3_146w86j\n",
      "6\n",
      "https://www.reddit.com/r/Keto.json?after=t3_145t0tl\n",
      "3\n",
      "https://www.reddit.com/r/Keto/new.json\n",
      "3\n",
      "https://www.reddit.com/r/Keto/new.json?after=t3_14d7eeb\n",
      "4\n",
      "https://www.reddit.com/r/Keto/new.json?after=t3_14cgmtv\n",
      "4\n",
      "https://www.reddit.com/r/Keto/new.json?after=t3_14bo8pv\n",
      "6\n",
      "https://www.reddit.com/r/Keto/new.json?after=t3_14az9hx\n",
      "5\n",
      "https://www.reddit.com/r/Keto/new.json?after=t3_14afk2s\n",
      "7\n",
      "https://www.reddit.com/r/Keto/new.json?after=t3_149odr4\n",
      "6\n",
      "https://www.reddit.com/r/Keto/new.json?after=t3_148w35f\n",
      "2\n",
      "https://www.reddit.com/r/Keto/new.json?after=t3_148j6hq\n",
      "4\n",
      "https://www.reddit.com/r/Keto/new.json?after=t3_147ugbq\n",
      "6\n",
      "https://www.reddit.com/r/Keto/new.json?after=t3_146qqrr\n",
      "4\n",
      "https://www.reddit.com/r/Keto/new.json?after=t3_145qifi\n",
      "6\n",
      "https://www.reddit.com/r/Keto/new.json?after=t3_144xmyy\n",
      "4\n",
      "https://www.reddit.com/r/Keto/new.json?after=t3_1447wmq\n",
      "4\n",
      "https://www.reddit.com/r/Keto/new.json?after=t3_143hqe4\n",
      "6\n",
      "https://www.reddit.com/r/Keto/new.json?after=t3_142m8hx\n",
      "2\n",
      "https://www.reddit.com/r/Keto/new.json?after=t3_141ltnq\n",
      "4\n",
      "https://www.reddit.com/r/Keto/new.json?after=t3_140gyqf\n",
      "6\n",
      "https://www.reddit.com/r/Keto/new.json?after=t3_13zi1sb\n",
      "4\n",
      "https://www.reddit.com/r/Keto/new.json?after=t3_13yfwuh\n",
      "5\n",
      "https://www.reddit.com/r/Keto/new.json?after=t3_13xl81u\n",
      "2\n",
      "https://www.reddit.com/r/Keto/new.json?after=t3_13wou4f\n",
      "6\n",
      "https://www.reddit.com/r/Keto/new.json?after=t3_13vweq3\n",
      "3\n",
      "https://www.reddit.com/r/Keto/new.json?after=t3_13v28rv\n",
      "2\n",
      "https://www.reddit.com/r/Keto/new.json?after=t3_13u64i7\n",
      "3\n",
      "https://www.reddit.com/r/Keto/new.json?after=t3_13t0td9\n",
      "6\n",
      "https://www.reddit.com/r/Keto/new.json?after=t3_13sdif3\n",
      "7\n",
      "https://www.reddit.com/r/Keto/new.json?after=t3_13rlewv\n",
      "3\n",
      "https://www.reddit.com/r/Keto/new.json?after=t3_13qzc05\n",
      "6\n",
      "https://www.reddit.com/r/Keto/new.json?after=t3_13q6l74\n",
      "2\n",
      "https://www.reddit.com/r/Keto/new.json?after=t3_13pk10y\n",
      "4\n",
      "https://www.reddit.com/r/Keto/new.json?after=t3_13oo4yw\n",
      "3\n",
      "https://www.reddit.com/r/Keto/new.json?after=t3_13nfet9\n",
      "2\n",
      "https://www.reddit.com/r/Keto/new.json?after=t3_13lye6h\n",
      "6\n",
      "https://www.reddit.com/r/Keto/new.json?after=t3_13kgvu0\n",
      "7\n",
      "https://www.reddit.com/r/Keto/new.json?after=t3_13jb6xp\n",
      "7\n",
      "https://www.reddit.com/r/Keto/new.json?after=t3_13ik7ul\n",
      "2\n",
      "https://www.reddit.com/r/Keto/new.json?after=t3_13hus4l\n",
      "7\n",
      "https://www.reddit.com/r/Keto/new.json?after=t3_13gqmsk\n",
      "4\n",
      "https://www.reddit.com/r/Keto/new.json?after=t3_13fol96\n",
      "5\n",
      "https://www.reddit.com/r/Keto/hot.json\n",
      "5\n",
      "https://www.reddit.com/r/Keto/hot.json?after=t3_14drlyt\n",
      "4\n",
      "https://www.reddit.com/r/Keto/hot.json?after=t3_14cru1d\n",
      "7\n",
      "https://www.reddit.com/r/Keto/hot.json?after=t3_14btcu1\n",
      "2\n",
      "https://www.reddit.com/r/Keto/hot.json?after=t3_14az9hx\n",
      "2\n",
      "https://www.reddit.com/r/Keto/hot.json?after=t3_14ainre\n",
      "7\n",
      "https://www.reddit.com/r/Keto/hot.json?after=t3_14a8ki2\n",
      "3\n",
      "https://www.reddit.com/r/Keto/hot.json?after=t3_148jsey\n",
      "6\n",
      "https://www.reddit.com/r/Keto/hot.json?after=t3_148fmao\n",
      "4\n",
      "https://www.reddit.com/r/Keto/hot.json?after=t3_1481k0u\n",
      "3\n",
      "https://www.reddit.com/r/Keto/hot.json?after=t3_146w86j\n",
      "6\n",
      "https://www.reddit.com/r/Keto/hot.json?after=t3_145t0tl\n",
      "5\n",
      "https://www.reddit.com/r/Keto/hot.json?after=t3_144xmyy\n",
      "2\n",
      "https://www.reddit.com/r/Keto/hot.json?after=t3_143xo8w\n",
      "5\n",
      "https://www.reddit.com/r/Keto/hot.json?after=t3_143hhav\n",
      "6\n",
      "https://www.reddit.com/r/Keto/hot.json?after=t3_142b9nx\n",
      "4\n",
      "https://www.reddit.com/r/Keto/hot.json?after=t3_14273kl\n",
      "5\n",
      "https://www.reddit.com/r/Keto/hot.json?after=t3_140mo6u\n",
      "7\n",
      "https://www.reddit.com/r/Keto/hot.json?after=t3_13zjtj7\n",
      "4\n",
      "https://www.reddit.com/r/Keto/hot.json?after=t3_13ypggm\n",
      "7\n",
      "https://www.reddit.com/r/Keto/hot.json?after=t3_13x1hjn\n",
      "4\n",
      "https://www.reddit.com/r/Keto/hot.json?after=t3_13wlz3a\n",
      "6\n",
      "https://www.reddit.com/r/Keto/hot.json?after=t3_13w0rw7\n",
      "5\n",
      "https://www.reddit.com/r/Keto/hot.json?after=t3_13uws09\n",
      "2\n",
      "https://www.reddit.com/r/Keto/hot.json?after=t3_13uaxgx\n",
      "6\n",
      "https://www.reddit.com/r/Keto/hot.json?after=t3_13t3ew1\n",
      "2\n",
      "https://www.reddit.com/r/Keto/hot.json?after=t3_13shkd1\n",
      "5\n",
      "https://www.reddit.com/r/Keto/hot.json?after=t3_13rfo88\n",
      "6\n",
      "https://www.reddit.com/r/Keto/hot.json\n",
      "3\n",
      "https://www.reddit.com/r/Keto/hot.json?after=t3_14drlyt\n",
      "7\n",
      "https://www.reddit.com/r/Keto/hot.json?after=t3_14cru1d\n",
      "7\n",
      "https://www.reddit.com/r/Keto/hot.json?after=t3_14btcu1\n",
      "6\n",
      "https://www.reddit.com/r/Keto/hot.json?after=t3_14az9hx\n",
      "3\n",
      "https://www.reddit.com/r/Keto/hot.json?after=t3_14ainre\n",
      "4\n",
      "https://www.reddit.com/r/Keto/hot.json?after=t3_14a8ki2\n",
      "5\n",
      "https://www.reddit.com/r/Keto/hot.json?after=t3_148jsey\n",
      "4\n",
      "https://www.reddit.com/r/Keto/hot.json?after=t3_148fmao\n",
      "7\n",
      "https://www.reddit.com/r/Keto/hot.json?after=t3_1481k0u\n",
      "3\n",
      "https://www.reddit.com/r/Keto/hot.json?after=t3_146w86j\n",
      "4\n",
      "https://www.reddit.com/r/Keto/hot.json?after=t3_145t0tl\n",
      "6\n"
     ]
    }
   ],
   "source": [
    "reddit_importer(k_url, 40, 'keto')"
   ]
  },
  {
   "cell_type": "code",
   "execution_count": 25,
   "id": "7ce330db",
   "metadata": {},
   "outputs": [
    {
     "name": "stdout",
     "output_type": "stream",
     "text": [
      "The original shape is (2943, 113).\n",
      "The shape after dropping duplicates is (975, 113).\n"
     ]
    }
   ],
   "source": [
    "k_df = pd.read_csv('../data/keto.csv')\n",
    "print(f'The original shape is {k_df.shape}.')\n",
    "\n",
    "k_df.drop_duplicates(subset = 'name', ignore_index = True, inplace = True)\n",
    "\n",
    "\n",
    "print(f'The shape after dropping duplicates is {k_df.shape}.')"
   ]
  },
  {
   "cell_type": "markdown",
   "id": "16528a34",
   "metadata": {},
   "source": [
    "Since both .csv files have around 1000 posts, it seems like we have enough data to proceed with. The next codebook will cover cleaning and EDA."
   ]
  },
  {
   "cell_type": "code",
   "execution_count": null,
   "id": "bf91f927",
   "metadata": {},
   "outputs": [],
   "source": [
    "pd.DataFrame(p_df).to_csv('../data/paleo2.csv', index = False)\n",
    "pd.DataFrame(k_df).to_csv('../data/keto2.csv', index = False)"
   ]
  },
  {
   "cell_type": "markdown",
   "id": "62381ad9",
   "metadata": {},
   "source": [
    "<b> End of Part I</b> <br>\n",
    "[Part II](Part_2-Cleaning_and_EDA.ipynb#part_ii)"
   ]
  }
 ],
 "metadata": {
  "kernelspec": {
   "display_name": "Python 3 (ipykernel)",
   "language": "python",
   "name": "python3"
  },
  "language_info": {
   "codemirror_mode": {
    "name": "ipython",
    "version": 3
   },
   "file_extension": ".py",
   "mimetype": "text/x-python",
   "name": "python",
   "nbconvert_exporter": "python",
   "pygments_lexer": "ipython3",
   "version": "3.9.13"
  },
  "vp": {
   "vp_config_version": "1.0.0",
   "vp_menu_width": 273,
   "vp_note_display": false,
   "vp_note_width": 0,
   "vp_position": {
    "width": 278
   },
   "vp_section_display": false,
   "vp_signature": "VisualPython"
  }
 },
 "nbformat": 4,
 "nbformat_minor": 5
}
